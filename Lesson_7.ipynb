{
 "cells": [
  {
   "cell_type": "code",
   "execution_count": 1,
   "id": "d707beb1",
   "metadata": {},
   "outputs": [],
   "source": [
    "import numpy as np"
   ]
  },
  {
   "cell_type": "markdown",
   "id": "0e3c3812",
   "metadata": {},
   "source": [
    "Задание 5.1"
   ]
  },
  {
   "cell_type": "code",
   "execution_count": 3,
   "id": "803a2273",
   "metadata": {},
   "outputs": [],
   "source": [
    "a = np.array([1, 2, 3], float)\n",
    "b = np.array([0, 1, 2], float)"
   ]
  },
  {
   "cell_type": "code",
   "execution_count": 13,
   "id": "9607157a",
   "metadata": {},
   "outputs": [
    {
     "name": "stdout",
     "output_type": "stream",
     "text": [
      "8.0\n"
     ]
    }
   ],
   "source": [
    "#Скалярное произведение векторов.\n",
    "c = np.dot(a, b)\n",
    "print(c)"
   ]
  },
  {
   "cell_type": "code",
   "execution_count": 11,
   "id": "db1f4f9f",
   "metadata": {},
   "outputs": [],
   "source": [
    "d = np.array([[1, 2, 3]], float)\n",
    "e = d.transpose()"
   ]
  },
  {
   "cell_type": "code",
   "execution_count": 12,
   "id": "fb82d4ff",
   "metadata": {},
   "outputs": [
    {
     "name": "stdout",
     "output_type": "stream",
     "text": [
      "[[1.]\n",
      " [2.]\n",
      " [3.]]\n"
     ]
    }
   ],
   "source": [
    "print(e)"
   ]
  },
  {
   "cell_type": "code",
   "execution_count": 14,
   "id": "85208cad",
   "metadata": {},
   "outputs": [
    {
     "name": "stdout",
     "output_type": "stream",
     "text": [
      "[[14.]]\n"
     ]
    }
   ],
   "source": [
    "# Векторное произведение.\n",
    "g = np.dot(d, e)\n",
    "print(g)"
   ]
  },
  {
   "cell_type": "code",
   "execution_count": 15,
   "id": "39aeea23",
   "metadata": {},
   "outputs": [
    {
     "name": "stdout",
     "output_type": "stream",
     "text": [
      "[[1. 2. 3.]\n",
      " [2. 4. 6.]\n",
      " [3. 6. 9.]]\n"
     ]
    }
   ],
   "source": [
    "z = np.dot(e, d)\n",
    "print(z)"
   ]
  },
  {
   "cell_type": "raw",
   "id": "cbff9bd7",
   "metadata": {},
   "source": [
    "5E * 5E**(-1) = E\n",
    "следовательно\n",
    "5Е**(-1) = 1/5 * E"
   ]
  },
  {
   "cell_type": "markdown",
   "id": "1ef7e47c",
   "metadata": {},
   "source": [
    "Задание 5.2"
   ]
  },
  {
   "cell_type": "code",
   "execution_count": 18,
   "id": "ed05c971",
   "metadata": {},
   "outputs": [
    {
     "name": "stdout",
     "output_type": "stream",
     "text": [
      "[[1. 2. 3.]\n",
      " [4. 0. 6.]\n",
      " [7. 8. 9.]]\n"
     ]
    },
    {
     "data": {
      "text/plain": [
       "59.999999999999986"
      ]
     },
     "execution_count": 18,
     "metadata": {},
     "output_type": "execute_result"
    }
   ],
   "source": [
    "a2 = np.array([[1, 2, 3], [4, 0, 6], [7, 8, 9]], float)\n",
    "print(a2)\n",
    "np.linalg.det(a2)"
   ]
  },
  {
   "cell_type": "code",
   "execution_count": 19,
   "id": "6b646d43",
   "metadata": {},
   "outputs": [
    {
     "data": {
      "text/plain": [
       "60"
      ]
     },
     "execution_count": 19,
     "metadata": {},
     "output_type": "execute_result"
    }
   ],
   "source": [
    "1*0*9 + 2*6*7 + 3*4*8 - 3*0*7 - 1*6*8 - 2*4*9"
   ]
  },
  {
   "cell_type": "markdown",
   "id": "3a0320eb",
   "metadata": {},
   "source": [
    "Задание 5.3"
   ]
  },
  {
   "cell_type": "code",
   "execution_count": 20,
   "id": "fe471381",
   "metadata": {},
   "outputs": [
    {
     "data": {
      "text/plain": [
       "array([[-0.8       ,  0.1       ,  0.2       ],\n",
       "       [ 0.1       , -0.2       ,  0.1       ],\n",
       "       [ 0.53333333,  0.1       , -0.13333333]])"
      ]
     },
     "execution_count": 20,
     "metadata": {},
     "output_type": "execute_result"
    }
   ],
   "source": [
    "np.linalg.inv(a2)"
   ]
  },
  {
   "cell_type": "markdown",
   "id": "307cc2e9",
   "metadata": {},
   "source": [
    "Матрица 4*4 с рангом 1"
   ]
  },
  {
   "cell_type": "code",
   "execution_count": 22,
   "id": "769f80ab",
   "metadata": {},
   "outputs": [
    {
     "name": "stdout",
     "output_type": "stream",
     "text": [
      "[[1. 1. 1. 1.]\n",
      " [1. 1. 1. 1.]\n",
      " [1. 1. 1. 1.]\n",
      " [1. 1. 1. 1.]]\n"
     ]
    }
   ],
   "source": [
    "a44 = np.ones((4, 4))\n",
    "print(a44)"
   ]
  },
  {
   "cell_type": "markdown",
   "id": "69573320",
   "metadata": {},
   "source": [
    "Задание 5.4"
   ]
  },
  {
   "cell_type": "code",
   "execution_count": 23,
   "id": "5dc0def6",
   "metadata": {},
   "outputs": [
    {
     "data": {
      "text/plain": [
       "42"
      ]
     },
     "execution_count": 23,
     "metadata": {},
     "output_type": "execute_result"
    }
   ],
   "source": [
    "v1 = np.array([1, 5])\n",
    "v2 = np.array([2, 8])\n",
    "np.dot(v1, v2)"
   ]
  },
  {
   "cell_type": "markdown",
   "id": "f0ba6692",
   "metadata": {},
   "source": [
    "Задание 5.5"
   ]
  },
  {
   "cell_type": "code",
   "execution_count": 25,
   "id": "7e3a9daa",
   "metadata": {},
   "outputs": [
    {
     "name": "stdout",
     "output_type": "stream",
     "text": [
      "228.5\n",
      "228.5\n"
     ]
    }
   ],
   "source": [
    "arr1 = np.array([1, 5, 0])\n",
    "arr2 = np.array([2, 8, 7])\n",
    "arr3 = np.array([7, 1.5, 3])\n",
    "v = np.cross(arr1, arr2)\n",
    "print(np.inner(v, arr3))\n",
    "\n",
    "w = np.cross(arr2, arr3)\n",
    "print(np.inner(w, arr1))"
   ]
  }
 ],
 "metadata": {
  "kernelspec": {
   "display_name": "Python 3 (ipykernel)",
   "language": "python",
   "name": "python3"
  },
  "language_info": {
   "codemirror_mode": {
    "name": "ipython",
    "version": 3
   },
   "file_extension": ".py",
   "mimetype": "text/x-python",
   "name": "python",
   "nbconvert_exporter": "python",
   "pygments_lexer": "ipython3",
   "version": "3.8.10"
  }
 },
 "nbformat": 4,
 "nbformat_minor": 5
}
