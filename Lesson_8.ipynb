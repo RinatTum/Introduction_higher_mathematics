{
 "cells": [
  {
   "cell_type": "code",
   "execution_count": 1,
   "id": "63ab95a8",
   "metadata": {},
   "outputs": [],
   "source": [
    "import numpy as np\n",
    "import matplotlib.pyplot as plt"
   ]
  },
  {
   "cell_type": "markdown",
   "id": "f1c254b3",
   "metadata": {},
   "source": [
    "Задание 1"
   ]
  },
  {
   "cell_type": "code",
   "execution_count": 9,
   "id": "c1ae3002",
   "metadata": {},
   "outputs": [
    {
     "name": "stdout",
     "output_type": "stream",
     "text": [
      "[[12]\n",
      " [ 2]\n",
      " [ 1]]\n",
      "\n",
      "[[-9.2       ]\n",
      " [ 0.9       ]\n",
      " [ 6.46666667]]\n",
      "\n",
      "[[12.]\n",
      " [ 2.]\n",
      " [ 1.]]\n"
     ]
    }
   ],
   "source": [
    "a = np.array([[1, 2, 3], [4, 0, 6], [7, 8, 9]], float)\n",
    "b = np.array([[12], [2], [1]])\n",
    "print(b)\n",
    "print()\n",
    "x = np.linalg.solve(a, b)\n",
    "print(x)\n",
    "print()\n",
    "print(np.dot(a, x))"
   ]
  },
  {
   "cell_type": "markdown",
   "id": "02020857",
   "metadata": {},
   "source": [
    "Задание 2"
   ]
  },
  {
   "cell_type": "markdown",
   "id": "4d45a875",
   "metadata": {},
   "source": [
    "Построение матрицы по системе уравнений."
   ]
  },
  {
   "cell_type": "code",
   "execution_count": 10,
   "id": "43ab7406",
   "metadata": {},
   "outputs": [
    {
     "data": {
      "text/plain": [
       "3"
      ]
     },
     "execution_count": 10,
     "metadata": {},
     "output_type": "execute_result"
    }
   ],
   "source": [
    "a = np.array([[1, 2, -1], [3, -4, 0], [8, -5, 2], [2, 0, -5], [11, 4, -7]])\n",
    "b = np.array([1, 7, 12, 7, 15])\n",
    "np.linalg.matrix_rank(a, 0.0001)"
   ]
  },
  {
   "cell_type": "code",
   "execution_count": 17,
   "id": "98203b33",
   "metadata": {},
   "outputs": [
    {
     "data": {
      "text/plain": [
       "(array([0., 0., 0.]),\n",
       " array([], dtype=float64),\n",
       " 2,\n",
       " array([1.68481034e+01, 1.06836951e+00, 4.41842475e-16]))"
      ]
     },
     "execution_count": 17,
     "metadata": {},
     "output_type": "execute_result"
    }
   ],
   "source": [
    "np.linalg.lstsq(a, b, rcond=None)"
   ]
  },
  {
   "cell_type": "code",
   "execution_count": 18,
   "id": "d1d23dca",
   "metadata": {},
   "outputs": [
    {
     "name": "stdout",
     "output_type": "stream",
     "text": [
      "[-3.37371625 -5.37402988 -7.37434351]\n",
      "9.728468568594236\n"
     ]
    }
   ],
   "source": [
    "x = np.dot(a, [ 1.13919353, -0.90498444, -0.9009803 ]) - b\n",
    "print(x)\n",
    "print(np.linalg.norm(x))"
   ]
  },
  {
   "cell_type": "markdown",
   "id": "1fe4fc39",
   "metadata": {},
   "source": [
    "Задание 3"
   ]
  },
  {
   "cell_type": "code",
   "execution_count": 19,
   "id": "b279dff1",
   "metadata": {},
   "outputs": [
    {
     "name": "stdout",
     "output_type": "stream",
     "text": [
      "2\n",
      "3\n"
     ]
    },
    {
     "data": {
      "text/plain": [
       "array([-4.05323966e+16,  8.10647933e+16, -4.05323966e+16])"
      ]
     },
     "execution_count": 19,
     "metadata": {},
     "output_type": "execute_result"
    }
   ],
   "source": [
    "a = np.array([[1, 2, 3], [4, 5, 6], [7, 8, 9]], float)\n",
    "b = np.array([12, 2, 1])\n",
    "c = np.array([[1, 2, 3, 12], [4, 5, 6, 2], [7, 8, 9, 1]], float)\n",
    "print(np.linalg.matrix_rank(a, 0.0001))\n",
    "print(np.linalg.matrix_rank(c, 0.0001))\n",
    "np.linalg.solve(a, b)"
   ]
  },
  {
   "cell_type": "code",
   "execution_count": 20,
   "id": "123d31cd",
   "metadata": {},
   "outputs": [
    {
     "name": "stdout",
     "output_type": "stream",
     "text": [
      "[0. 0. 0.]\n"
     ]
    }
   ],
   "source": [
    "b = np.array([0, 0, 0])\n",
    "print(np.linalg.solve(a, b))"
   ]
  },
  {
   "cell_type": "code",
   "execution_count": 29,
   "id": "667dd0de",
   "metadata": {},
   "outputs": [
    {
     "name": "stdout",
     "output_type": "stream",
     "text": [
      "[0. 3. 0.]\n",
      "[0. 0. 0.]\n"
     ]
    }
   ],
   "source": [
    "b1 = np.array([6, 15, 24], float)\n",
    "x = np.linalg.solve(a, b1)\n",
    "print(x)\n",
    "print(np.dot(a, x) - b1)"
   ]
  },
  {
   "cell_type": "markdown",
   "id": "8a33ab70",
   "metadata": {},
   "source": [
    "Задание 4"
   ]
  },
  {
   "cell_type": "code",
   "execution_count": 30,
   "id": "d43bd40b",
   "metadata": {},
   "outputs": [
    {
     "data": {
      "text/plain": [
       "432.00000000000017"
      ]
     },
     "execution_count": 30,
     "metadata": {},
     "output_type": "execute_result"
    }
   ],
   "source": [
    "a = np.array([[1, 2, 3],[2, 16, 21], [4, 28, 73]])\n",
    "np.linalg.det(a)"
   ]
  },
  {
   "cell_type": "code",
   "execution_count": 31,
   "id": "33d164a4",
   "metadata": {},
   "outputs": [],
   "source": [
    "import scipy.linalg"
   ]
  },
  {
   "cell_type": "code",
   "execution_count": 32,
   "id": "baab3fe0",
   "metadata": {},
   "outputs": [
    {
     "name": "stdout",
     "output_type": "stream",
     "text": [
      "[[0. 1. 0.]\n",
      " [0. 0. 1.]\n",
      " [1. 0. 0.]]\n",
      "[[ 1.    0.    0.  ]\n",
      " [ 0.25  1.    0.  ]\n",
      " [ 0.5  -0.4   1.  ]]\n",
      "[[  4.    28.    73.  ]\n",
      " [  0.    -5.   -15.25]\n",
      " [  0.     0.   -21.6 ]]\n"
     ]
    }
   ],
   "source": [
    "P, L, U = scipy.linalg.lu(a)\n",
    "print(P)\n",
    "print(L)\n",
    "print(U)"
   ]
  },
  {
   "cell_type": "code",
   "execution_count": 33,
   "id": "8c417bc7",
   "metadata": {},
   "outputs": [
    {
     "name": "stdout",
     "output_type": "stream",
     "text": [
      "[[ 4. 28. 73.]\n",
      " [ 1.  2.  3.]\n",
      " [ 2. 16. 21.]]\n",
      "[[ 4. 28. 73.]\n",
      " [ 1.  2.  3.]\n",
      " [ 2. 16. 21.]]\n",
      "[[0. 0. 0.]\n",
      " [0. 0. 0.]\n",
      " [0. 0. 0.]]\n"
     ]
    }
   ],
   "source": [
    "print(np.dot(P.transpose(), a))\n",
    "print(np.dot(L, U))\n",
    "print(np.dot(P.transpose(), a) - np.dot(L, U))"
   ]
  },
  {
   "cell_type": "markdown",
   "id": "ef061387",
   "metadata": {},
   "source": [
    "Задание 5"
   ]
  },
  {
   "cell_type": "markdown",
   "id": "1ec3397f",
   "metadata": {},
   "source": [
    "x + 2y – z = 1  \n",
    "8x – 5y + 2z = 12"
   ]
  },
  {
   "cell_type": "code",
   "execution_count": 36,
   "id": "4642c594",
   "metadata": {},
   "outputs": [
    {
     "data": {
      "text/plain": [
       "(array([ 1.38191882, -0.18081181,  0.0202952 ]),\n",
       " array([], dtype=float64),\n",
       " 2,\n",
       " array([9.65316119, 2.41173777]))"
      ]
     },
     "execution_count": 36,
     "metadata": {},
     "output_type": "execute_result"
    }
   ],
   "source": [
    "a = np.array([[1, 2, -1], [8, -5, 2]], float)\n",
    "b = np.array([1, 12])\n",
    "np.linalg.lstsq(a, b, rcond=None)"
   ]
  },
  {
   "cell_type": "code",
   "execution_count": 42,
   "id": "1198301d",
   "metadata": {},
   "outputs": [
    {
     "data": {
      "image/png": "[encoded data removed]",
      "text/plain": [
       "<Figure size 432x288 with 1 Axes>"
      ]
     },
     "metadata": {
      "needs_background": "light"
     },
     "output_type": "display_data"
    }
   ],
   "source": [
    "def Q(x, y, z):\n",
    "    return (x**2 + y**2 + z**2)\n",
    "\n",
    "x = np.linspace(0, 3, 201)\n",
    "plt.plot(x, Q(x, 10 * x - 14, 21 * x - 29))\n",
    "plt.xlabel('x')\n",
    "plt.ylabel('Q(x)')\n",
    "plt.grid(True)\n",
    "plt.ylim(-100, 1000)\n",
    "plt.plot([1.382, 1.382],[-100, 1000], color = 'blue', linewidth=0.75, linestyle = \"--\")\n",
    "plt.show()"
   ]
  },
  {
   "cell_type": "markdown",
   "id": "414195fc",
   "metadata": {},
   "source": [
    "Задание 6"
   ]
  },
  {
   "cell_type": "code",
   "execution_count": 43,
   "id": "3bc3b0a6",
   "metadata": {},
   "outputs": [
    {
     "name": "stdout",
     "output_type": "stream",
     "text": [
      "2\n",
      "3\n"
     ]
    }
   ],
   "source": [
    "A = np.array([[1, 2, 3], [4, 5, 6], [7, 8, 9]], float)\n",
    "B = np.array([2, 5, 11])\n",
    "C = np.array([[1, 2, 3, 2], [4, 5, 6, 5], [7, 8, 9, 11]], float)\n",
    "print(np.linalg.matrix_rank(A, 0.0001))\n",
    "print(np.linalg.matrix_rank(C, 0.0001))"
   ]
  },
  {
   "cell_type": "code",
   "execution_count": 44,
   "id": "7e37d5d0",
   "metadata": {},
   "outputs": [
    {
     "name": "stdout",
     "output_type": "stream",
     "text": [
      "[[-0.12309149  0.90453403  0.40824829]\n",
      " [-0.49236596  0.30151134 -0.81649658]\n",
      " [-0.86164044 -0.30151134  0.40824829]]\n",
      "[[-8.12403840e+00 -9.60113630e+00 -1.10782342e+01]\n",
      " [ 0.00000000e+00  9.04534034e-01  1.80906807e+00]\n",
      " [ 0.00000000e+00  0.00000000e+00 -8.88178420e-16]]\n",
      "[[1. 2. 3.]\n",
      " [4. 5. 6.]\n",
      " [7. 8. 9.]]\n"
     ]
    }
   ],
   "source": [
    "Q, R = np.linalg.qr(A)\n",
    "print(Q)\n",
    "print(R)\n",
    "print(np.dot(Q, R))"
   ]
  },
  {
   "cell_type": "code",
   "execution_count": 45,
   "id": "a06be6be",
   "metadata": {},
   "outputs": [
    {
     "data": {
      "text/plain": [
       "(array([ 1.25,  0.5 , -0.25]),\n",
       " array([], dtype=float64),\n",
       " 2,\n",
       " array([1.68481034e+01, 1.06836951e+00, 4.41842475e-16]))"
      ]
     },
     "execution_count": 45,
     "metadata": {},
     "output_type": "execute_result"
    }
   ],
   "source": [
    "np.linalg.lstsq(A, B, rcond=None)"
   ]
  },
  {
   "cell_type": "code",
   "execution_count": null,
   "id": "0c82cd96",
   "metadata": {},
   "outputs": [],
   "source": []
  }
 ],
 "metadata": {
  "kernelspec": {
   "display_name": "Python 3 (ipykernel)",
   "language": "python",
   "name": "python3"
  },
  "language_info": {
   "codemirror_mode": {
    "name": "ipython",
    "version": 3
   },
   "file_extension": ".py",
   "mimetype": "text/x-python",
   "name": "python",
   "nbconvert_exporter": "python",
   "pygments_lexer": "ipython3",
   "version": "3.8.10"
  }
 },
 "nbformat": 4,
 "nbformat_minor": 5
}
