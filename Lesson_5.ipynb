{
 "cells": [
  {
   "cell_type": "markdown",
   "id": "552052ef",
   "metadata": {},
   "source": [
    "Задание №1"
   ]
  },
  {
   "cell_type": "code",
   "execution_count": 3,
   "id": "3e639a8c",
   "metadata": {},
   "outputs": [],
   "source": [
    "from random import randrange"
   ]
  },
  {
   "cell_type": "code",
   "execution_count": 7,
   "id": "1efa66f8",
   "metadata": {},
   "outputs": [
    {
     "name": "stdout",
     "output_type": "stream",
     "text": [
      "29 black\n",
      "34 red\n",
      "3 red\n"
     ]
    }
   ],
   "source": [
    "def roulette():\n",
    "    number = randrange(0, 37)\n",
    "    if number == 0:\n",
    "        color = \"green\"\n",
    "    elif (1<=number<=10 or 19<=number<=28) and number%2 == 0:\n",
    "        color = \"black\"\n",
    "    elif (1<=number<=10 or 19<=number<=28) and number%2 != 0:\n",
    "        color = \"red\"\n",
    "    elif (11<=number<=18 or 29<=number<=36) and number%2 == 0:\n",
    "        color = \"red\"\n",
    "    elif (11<=number<=18 or 29<=number<=36) and number%2 != 0:\n",
    "        color = \"black\"\n",
    "    \n",
    "    print(f\"{number} {color}\")\n",
    "\n",
    "roulette()\n",
    "roulette()\n",
    "roulette()"
   ]
  },
  {
   "cell_type": "markdown",
   "id": "9dd9c1b4",
   "metadata": {},
   "source": [
    "Задание №2.1"
   ]
  },
  {
   "cell_type": "code",
   "execution_count": 35,
   "id": "8227053a",
   "metadata": {},
   "outputs": [
    {
     "name": "stdout",
     "output_type": "stream",
     "text": [
      "Вероятность выпадения зеленого и красного: 0.0288\n"
     ]
    }
   ],
   "source": [
    "black = 0\n",
    "red = 0\n",
    "green = 0\n",
    "n = 100\n",
    "for i in range(n):\n",
    "    number = randrange(0, 37)\n",
    "    if number == 0:\n",
    "        color = \"green\"\n",
    "        green += 1\n",
    "    elif (1<=number<=10 or 19<=number<=28) and number%2 == 0:\n",
    "        color = \"black\"\n",
    "        black += 1\n",
    "    elif (1<=number<=10 or 19<=number<=28) and number%2 != 0:\n",
    "        color = \"red\"\n",
    "        red += 1\n",
    "    elif (11<=number<=18 or 29<=number<=36) and number%2 == 0:\n",
    "        color = \"red\"\n",
    "        red += 1\n",
    "    elif (11<=number<=18 or 29<=number<=36) and number%2 != 0:\n",
    "        color = \"black\"\n",
    "        black += 1\n",
    "        \n",
    "P_black = black / n\n",
    "P_red = red / n\n",
    "P_green = green / n\n",
    "print(f'Вероятность выпадения зеленого и красного: {round(P_green * P_red, 4)}')"
   ]
  },
  {
   "cell_type": "markdown",
   "id": "6c0ba046",
   "metadata": {},
   "source": [
    "Задание №2.2"
   ]
  },
  {
   "cell_type": "code",
   "execution_count": 36,
   "id": "3719c908",
   "metadata": {},
   "outputs": [],
   "source": [
    "import numpy as np\n",
    "import matplotlib.pyplot as plt"
   ]
  },
  {
   "cell_type": "code",
   "execution_count": 41,
   "id": "da031f09",
   "metadata": {},
   "outputs": [
    {
     "data": {
      "text/plain": [
       "(10, 100)"
      ]
     },
     "execution_count": 41,
     "metadata": {},
     "output_type": "execute_result"
    }
   ],
   "source": [
    "selection = np.array([[randrange(100) for y in range(100)] for y in range(10)])\n",
    "selection.shape"
   ]
  },
  {
   "cell_type": "code",
   "execution_count": 42,
   "id": "99780205",
   "metadata": {},
   "outputs": [
    {
     "data": {
      "text/plain": [
       "(100,)"
      ]
     },
     "execution_count": 42,
     "metadata": {},
     "output_type": "execute_result"
    }
   ],
   "source": [
    "selection_sum = np.sum(selection, axis=0)\n",
    "selection_sum.shape"
   ]
  },
  {
   "cell_type": "code",
   "execution_count": 43,
   "id": "93317ea8",
   "metadata": {},
   "outputs": [
    {
     "data": {
      "text/plain": [
       "(array([ 1.,  0.,  3.,  7., 16., 20., 27.,  9.,  6., 11.]),\n",
       " array([195. , 245.5, 296. , 346.5, 397. , 447.5, 498. , 548.5, 599. ,\n",
       "        649.5, 700. ]),\n",
       " <BarContainer object of 10 artists>)"
      ]
     },
     "execution_count": 43,
     "metadata": {},
     "output_type": "execute_result"
    },
    {
     "data": {
      "image/png": "[encoded data removed]",
      "text/plain": [
       "<Figure size 432x288 with 1 Axes>"
      ]
     },
     "metadata": {
      "needs_background": "light"
     },
     "output_type": "display_data"
    }
   ],
   "source": [
    "plt.hist(selection_sum, bins=10)"
   ]
  },
  {
   "cell_type": "markdown",
   "id": "6ba74c0e",
   "metadata": {},
   "source": [
    "Задание №3.1"
   ]
  },
  {
   "cell_type": "code",
   "execution_count": 45,
   "id": "687e9159",
   "metadata": {},
   "outputs": [],
   "source": [
    "import itertools\n",
    "import math"
   ]
  },
  {
   "cell_type": "code",
   "execution_count": 46,
   "id": "240cc4c2",
   "metadata": {},
   "outputs": [
    {
     "name": "stdout",
     "output_type": "stream",
     "text": [
      "Орел: 2, Решка: 3\n",
      "P(2) орла из 5: 31.25%\n"
     ]
    }
   ],
   "source": [
    "k, m = 0, 0\n",
    "n = 5\n",
    "el_events = [i for i in range(n + 1)]\n",
    "p_success = 0.5\n",
    "\n",
    "for i in range(0, n):\n",
    "    x = np.random.uniform(0, 10)\n",
    "    if x < 5:\n",
    "        k += 1\n",
    "    else:\n",
    "        m +=1\n",
    "\n",
    "def result_p(i):\n",
    "    comb = math.factorial(n)/(math.factorial(i) * (math.factorial(n - i)))\n",
    "    current_p = p_success**i\n",
    "    current_q = (1 - p_success)**(n - i)\n",
    "    return round(comb * current_p * current_q, 4)\n",
    "\n",
    "print(f'Орел: {k}, Решка: {m}\\nP({k}) орла из {n}: {result_p(k) * 100}%')"
   ]
  },
  {
   "cell_type": "markdown",
   "id": "eb16a7db",
   "metadata": {},
   "source": [
    "Задание №3.2"
   ]
  },
  {
   "cell_type": "code",
   "execution_count": 47,
   "id": "524b88f3",
   "metadata": {},
   "outputs": [
    {
     "name": "stdout",
     "output_type": "stream",
     "text": [
      "P(0) из 10: 0.02825\n",
      "P(1) из 10: 0.12106\n",
      "P(2) из 10: 0.23347\n",
      "P(3) из 10: 0.26683\n",
      "P(4) из 10: 0.20012\n",
      "P(5) из 10: 0.10292\n",
      "P(6) из 10: 0.03676\n",
      "P(7) из 10: 0.009\n",
      "P(8) из 10: 0.00145\n",
      "P(9) из 10: 0.00014\n",
      "P(10) из 10: 1e-05\n"
     ]
    }
   ],
   "source": [
    "n = 10\n",
    "el_events = [i for i in range(n + 1)]\n",
    "p_success = 0.3\n",
    "\n",
    "for i in el_events:\n",
    "    comb = math.factorial(n)/(math.factorial(i) * (math.factorial(n - i)))\n",
    "    current_p = p_success**i\n",
    "    current_q = (1 - p_success)**(n - i)\n",
    "    result = comb * current_p * current_q\n",
    "    print(f'P({i}) из {n}: {round(result, 5)}')"
   ]
  },
  {
   "cell_type": "markdown",
   "id": "7abe94eb",
   "metadata": {},
   "source": [
    "Задание №4"
   ]
  },
  {
   "cell_type": "code",
   "execution_count": 48,
   "id": "194fa08d",
   "metadata": {},
   "outputs": [
    {
     "name": "stdout",
     "output_type": "stream",
     "text": [
      "0123\n",
      "0124\n",
      "0125\n",
      "0132\n",
      "0134\n",
      "0135\n",
      "0142\n",
      "0143\n",
      "0145\n",
      "0152\n",
      "0153\n",
      "0154\n",
      "0213\n",
      "0214\n",
      "0215\n",
      "0231\n",
      "0234\n",
      "0235\n",
      "0241\n",
      "0243\n",
      "0245\n",
      "0251\n",
      "0253\n",
      "0254\n",
      "0312\n",
      "0314\n",
      "0315\n",
      "0321\n",
      "0324\n",
      "0325\n",
      "0341\n",
      "0342\n",
      "0345\n",
      "0351\n",
      "0352\n",
      "0354\n",
      "0412\n",
      "0413\n",
      "0415\n",
      "0421\n",
      "0423\n",
      "0425\n",
      "0431\n",
      "0432\n",
      "0435\n",
      "0451\n",
      "0452\n",
      "0453\n",
      "0512\n",
      "0513\n",
      "0514\n",
      "0521\n",
      "0523\n",
      "0524\n",
      "0531\n",
      "0532\n",
      "0534\n",
      "0541\n",
      "0542\n",
      "0543\n",
      "1023\n",
      "1024\n",
      "1025\n",
      "1032\n",
      "1034\n",
      "1035\n",
      "1042\n",
      "1043\n",
      "1045\n",
      "1052\n",
      "1053\n",
      "1054\n",
      "1203\n",
      "1204\n",
      "1205\n",
      "1230\n",
      "1234\n",
      "1235\n",
      "1240\n",
      "1243\n",
      "1245\n",
      "1250\n",
      "1253\n",
      "1254\n",
      "1302\n",
      "1304\n",
      "1305\n",
      "1320\n",
      "1324\n",
      "1325\n",
      "1340\n",
      "1342\n",
      "1345\n",
      "1350\n",
      "1352\n",
      "1354\n",
      "1402\n",
      "1403\n",
      "1405\n",
      "1420\n",
      "1423\n",
      "1425\n",
      "1430\n",
      "1432\n",
      "1435\n",
      "1450\n",
      "1452\n",
      "1453\n",
      "1502\n",
      "1503\n",
      "1504\n",
      "1520\n",
      "1523\n",
      "1524\n",
      "1530\n",
      "1532\n",
      "1534\n",
      "1540\n",
      "1542\n",
      "1543\n",
      "2013\n",
      "2014\n",
      "2015\n",
      "2031\n",
      "2034\n",
      "2035\n",
      "2041\n",
      "2043\n",
      "2045\n",
      "2051\n",
      "2053\n",
      "2054\n",
      "2103\n",
      "2104\n",
      "2105\n",
      "2130\n",
      "2134\n",
      "2135\n",
      "2140\n",
      "2143\n",
      "2145\n",
      "2150\n",
      "2153\n",
      "2154\n",
      "2301\n",
      "2304\n",
      "2305\n",
      "2310\n",
      "2314\n",
      "2315\n",
      "2340\n",
      "2341\n",
      "2345\n",
      "2350\n",
      "2351\n",
      "2354\n",
      "2401\n",
      "2403\n",
      "2405\n",
      "2410\n",
      "2413\n",
      "2415\n",
      "2430\n",
      "2431\n",
      "2435\n",
      "2450\n",
      "2451\n",
      "2453\n",
      "2501\n",
      "2503\n",
      "2504\n",
      "2510\n",
      "2513\n",
      "2514\n",
      "2530\n",
      "2531\n",
      "2534\n",
      "2540\n",
      "2541\n",
      "2543\n",
      "3012\n",
      "3014\n",
      "3015\n",
      "3021\n",
      "3024\n",
      "3025\n",
      "3041\n",
      "3042\n",
      "3045\n",
      "3051\n",
      "3052\n",
      "3054\n",
      "3102\n",
      "3104\n",
      "3105\n",
      "3120\n",
      "3124\n",
      "3125\n",
      "3140\n",
      "3142\n",
      "3145\n",
      "3150\n",
      "3152\n",
      "3154\n",
      "3201\n",
      "3204\n",
      "3205\n",
      "3210\n",
      "3214\n",
      "3215\n",
      "3240\n",
      "3241\n",
      "3245\n",
      "3250\n",
      "3251\n",
      "3254\n",
      "3401\n",
      "3402\n",
      "3405\n",
      "3410\n",
      "3412\n",
      "3415\n",
      "3420\n",
      "3421\n",
      "3425\n",
      "3450\n",
      "3451\n",
      "3452\n",
      "3501\n",
      "3502\n",
      "3504\n",
      "3510\n",
      "3512\n",
      "3514\n",
      "3520\n",
      "3521\n",
      "3524\n",
      "3540\n",
      "3541\n",
      "3542\n",
      "4012\n",
      "4013\n",
      "4015\n",
      "4021\n",
      "4023\n",
      "4025\n",
      "4031\n",
      "4032\n",
      "4035\n",
      "4051\n",
      "4052\n",
      "4053\n",
      "4102\n",
      "4103\n",
      "4105\n",
      "4120\n",
      "4123\n",
      "4125\n",
      "4130\n",
      "4132\n",
      "4135\n",
      "4150\n",
      "4152\n",
      "4153\n",
      "4201\n",
      "4203\n",
      "4205\n",
      "4210\n",
      "4213\n",
      "4215\n",
      "4230\n",
      "4231\n",
      "4235\n",
      "4250\n",
      "4251\n",
      "4253\n",
      "4301\n",
      "4302\n",
      "4305\n",
      "4310\n",
      "4312\n",
      "4315\n",
      "4320\n",
      "4321\n",
      "4325\n",
      "4350\n",
      "4351\n",
      "4352\n",
      "4501\n",
      "4502\n",
      "4503\n",
      "4510\n",
      "4512\n",
      "4513\n",
      "4520\n",
      "4521\n",
      "4523\n",
      "4530\n",
      "4531\n",
      "4532\n",
      "5012\n",
      "5013\n",
      "5014\n",
      "5021\n",
      "5023\n",
      "5024\n",
      "5031\n",
      "5032\n",
      "5034\n",
      "5041\n",
      "5042\n",
      "5043\n",
      "5102\n",
      "5103\n",
      "5104\n",
      "5120\n",
      "5123\n",
      "5124\n",
      "5130\n",
      "5132\n",
      "5134\n",
      "5140\n",
      "5142\n",
      "5143\n",
      "5201\n",
      "5203\n",
      "5204\n",
      "5210\n",
      "5213\n",
      "5214\n",
      "5230\n",
      "5231\n",
      "5234\n",
      "5240\n",
      "5241\n",
      "5243\n",
      "5301\n",
      "5302\n",
      "5304\n",
      "5310\n",
      "5312\n",
      "5314\n",
      "5320\n",
      "5321\n",
      "5324\n",
      "5340\n",
      "5341\n",
      "5342\n",
      "5401\n",
      "5402\n",
      "5403\n",
      "5410\n",
      "5412\n",
      "5413\n",
      "5420\n",
      "5421\n",
      "5423\n",
      "5430\n",
      "5431\n",
      "5432\n",
      "A(6,4): 360\n"
     ]
    }
   ],
   "source": [
    "n = 6\n",
    "k = 4\n",
    "list_n = [i for i in range(n)]\n",
    "i = 0\n",
    "for p in itertools.permutations(list_n, k):\n",
    "    print(''.join(str(x) for x in p))\n",
    "    i += 1\n",
    "print(f'A({n},{k}): {i}')"
   ]
  },
  {
   "cell_type": "markdown",
   "id": "1c36a62d",
   "metadata": {},
   "source": [
    "Задание №5"
   ]
  },
  {
   "cell_type": "code",
   "execution_count": 49,
   "id": "518c028e",
   "metadata": {},
   "outputs": [
    {
     "name": "stdout",
     "output_type": "stream",
     "text": [
      "0.15792908830861\n"
     ]
    }
   ],
   "source": [
    "x = [1, 34, 12, 11, 16, 17, 20, 25, 1]\n",
    "y = [0, 0, 11, 9, 8, 7, 6, 55, 20]\n",
    "\n",
    "def average(x):\n",
    "    assert len(x) > 0\n",
    "    return float(sum(x)) / len(x)\n",
    "\n",
    "def pearson_def(x, y):\n",
    "    assert len(x) == len(y)\n",
    "    n = len(x)\n",
    "    assert n > 0\n",
    "    avg_x = average(x)\n",
    "    avg_y = average(y)\n",
    "    diffprod = 0\n",
    "    xdiff2 = 0\n",
    "    ydiff2 = 0\n",
    "    for idx in range(n):\n",
    "        xdiff = x[idx] - avg_x\n",
    "        ydiff = y[idx] - avg_y\n",
    "        diffprod += xdiff * ydiff\n",
    "        xdiff2 += xdiff * xdiff\n",
    "        ydiff2 += ydiff * ydiff\n",
    "\n",
    "    return diffprod / math.sqrt(xdiff2 * ydiff2)\n",
    "\n",
    "print(pearson_def(x, y))"
   ]
  },
  {
   "cell_type": "code",
   "execution_count": null,
   "id": "0a5c4490",
   "metadata": {},
   "outputs": [],
   "source": []
  }
 ],
 "metadata": {
  "kernelspec": {
   "display_name": "Python 3 (ipykernel)",
   "language": "python",
   "name": "python3"
  },
  "language_info": {
   "codemirror_mode": {
    "name": "ipython",
    "version": 3
   },
   "file_extension": ".py",
   "mimetype": "text/x-python",
   "name": "python",
   "nbconvert_exporter": "python",
   "pygments_lexer": "ipython3",
   "version": "3.8.10"
  }
 },
 "nbformat": 4,
 "nbformat_minor": 5
}
